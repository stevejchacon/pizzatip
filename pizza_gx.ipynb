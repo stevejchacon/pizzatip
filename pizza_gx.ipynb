{
 "cells": [
  {
   "cell_type": "code",
   "execution_count": 1,
   "metadata": {},
   "outputs": [],
   "source": [
    "import great_expectations as gx\n",
    "import pandas as pd"
   ]
  },
  {
   "cell_type": "code",
   "execution_count": 2,
   "metadata": {},
   "outputs": [],
   "source": [
    "df = pd.read_csv(\"_data/df-clean.csv\")"
   ]
  },
  {
   "cell_type": "markdown",
   "metadata": {},
   "source": [
    "## Create the Data Context"
   ]
  },
  {
   "cell_type": "code",
   "execution_count": 3,
   "metadata": {},
   "outputs": [],
   "source": [
    "context = gx.get_context()"
   ]
  },
  {
   "cell_type": "markdown",
   "metadata": {},
   "source": [
    "## Data Sources & Data Assets"
   ]
  },
  {
   "cell_type": "code",
   "execution_count": 4,
   "metadata": {},
   "outputs": [],
   "source": [
    "# create the data source\n",
    "data_source = context.data_sources.add_pandas(\n",
    "  name=\"pizza_data\"\n",
    ")\n",
    "\n",
    "# create the data asset\n",
    "data_asset = data_source.add_dataframe_asset(\n",
    "  name=\"pizza_asset\"\n",
    ")"
   ]
  },
  {
   "cell_type": "markdown",
   "metadata": {},
   "source": [
    "## Batch Definitions & Batches"
   ]
  },
  {
   "cell_type": "code",
   "execution_count": 5,
   "metadata": {},
   "outputs": [],
   "source": [
    "# create the batch definition\n",
    "batch_definition = data_asset.add_batch_definition_whole_dataframe(\n",
    "  name=\"my_batch_definition\"\n",
    ")\n",
    "\n",
    "# pass your dataframe into a batch. A batch is a group of records that a\n",
    "# validation can be run on \n",
    "batch = batch_definition.get_batch(\n",
    "  batch_parameters={\"dataframe\": df}\n",
    ")"
   ]
  },
  {
   "cell_type": "code",
   "execution_count": 7,
   "metadata": {},
   "outputs": [
    {
     "name": "stderr",
     "output_type": "stream",
     "text": [
      "Calculating Metrics: 100%|██████████| 1/1 [00:00<00:00, 149.56it/s]"
     ]
    },
    {
     "name": "stdout",
     "output_type": "stream",
     "text": [
      "   Unnamed: 0       Job Clocked In Clocked Out  Duration  Earnings  \\\n",
      "0           0  Macianos   16:40:00    18:45:00      2.08        59   \n",
      "1           1  Macianos   16:08:00    21:52:00      5.73       108   \n",
      "2           2  Macianos   17:01:00    21:15:00      4.23        81   \n",
      "3           3  Macianos   16:25:00    22:17:00      5.87       124   \n",
      "4           4  Macianos   16:25:00    21:30:00      5.08       122   \n",
      "\n",
      "         Date  Month  Day  Year  Is Holiday Holiday Name Day of Week  \\\n",
      "0  2020-08-03      8    3  2020       False          NaN      Monday   \n",
      "1  2020-08-04      8    4  2020       False          NaN     Tuesday   \n",
      "2  2020-08-05      8    5  2020       False          NaN   Wednesday   \n",
      "3  2020-08-06      8    6  2020       False          NaN    Thursday   \n",
      "4  2020-08-07      8    7  2020       False          NaN      Friday   \n",
      "\n",
      "   Hourly Rate  Season  \n",
      "0        28.37  Summer  \n",
      "1        18.85  Summer  \n",
      "2        19.15  Summer  \n",
      "3        21.12  Summer  \n",
      "4        24.02  Summer  \n"
     ]
    },
    {
     "name": "stderr",
     "output_type": "stream",
     "text": [
      "\n"
     ]
    }
   ],
   "source": [
    "batch.head()"
   ]
  },
  {
   "cell_type": "code",
   "execution_count": 8,
   "metadata": {},
   "outputs": [
    {
     "name": "stderr",
     "output_type": "stream",
     "text": [
      "Calculating Metrics: 100%|██████████| 1/1 [00:00<00:00, 125.54it/s]\n"
     ]
    },
    {
     "data": {
      "text/plain": [
       "     Unnamed: 0        Job Clocked In Clocked Out  Duration  Earnings  \\\n",
       "0             0   Macianos   16:40:00    18:45:00      2.08        59   \n",
       "1             1   Macianos   16:08:00    21:52:00      5.73       108   \n",
       "2             2   Macianos   17:01:00    21:15:00      4.23        81   \n",
       "3             3   Macianos   16:25:00    22:17:00      5.87       124   \n",
       "4             4   Macianos   16:25:00    21:30:00      5.08       122   \n",
       "..          ...        ...        ...         ...       ...       ...   \n",
       "303         303  Maciano 2   16:23:00    21:33:00      5.17       178   \n",
       "304         304  Maciano 2   16:48:00    19:42:00      2.90        63   \n",
       "305         305  Maciano 2   17:10:00    20:30:00      3.33       113   \n",
       "306         306  Maciano 2   15:49:00    19:28:00      3.65        93   \n",
       "307         307  Maciano 2   16:40:00    21:31:00      4.85       224   \n",
       "\n",
       "           Date  Month  Day  Year  Is Holiday Holiday Name Day of Week  \\\n",
       "0    2020-08-03      8    3  2020       False          NaN      Monday   \n",
       "1    2020-08-04      8    4  2020       False          NaN     Tuesday   \n",
       "2    2020-08-05      8    5  2020       False          NaN   Wednesday   \n",
       "3    2020-08-06      8    6  2020       False          NaN    Thursday   \n",
       "4    2020-08-07      8    7  2020       False          NaN      Friday   \n",
       "..          ...    ...  ...   ...         ...          ...         ...   \n",
       "303  2023-05-21      5   21  2023       False          NaN      Sunday   \n",
       "304  2023-05-23      5   23  2023       False          NaN     Tuesday   \n",
       "305  2023-05-26      5   26  2023       False          NaN      Friday   \n",
       "306  2023-06-04      6    4  2023       False          NaN      Sunday   \n",
       "307  2023-06-24      6   24  2023       False          NaN    Saturday   \n",
       "\n",
       "     Hourly Rate  Season  \n",
       "0          28.37  Summer  \n",
       "1          18.85  Summer  \n",
       "2          19.15  Summer  \n",
       "3          21.12  Summer  \n",
       "4          24.02  Summer  \n",
       "..           ...     ...  \n",
       "303        34.43  Spring  \n",
       "304        21.72  Spring  \n",
       "305        33.93  Spring  \n",
       "306        25.48  Summer  \n",
       "307        46.19  Summer  \n",
       "\n",
       "[308 rows x 15 columns]"
      ]
     },
     "execution_count": 8,
     "metadata": {},
     "output_type": "execute_result"
    }
   ],
   "source": [
    "batch.head(fetch_all=True)"
   ]
  },
  {
   "cell_type": "code",
   "execution_count": 9,
   "metadata": {},
   "outputs": [
    {
     "name": "stderr",
     "output_type": "stream",
     "text": [
      "Calculating Metrics: 100%|██████████| 2/2 [00:00<00:00, 293.38it/s]\n"
     ]
    },
    {
     "data": {
      "text/plain": [
       "['Unnamed: 0',\n",
       " 'Job',\n",
       " 'Clocked In',\n",
       " 'Clocked Out',\n",
       " 'Duration',\n",
       " 'Earnings',\n",
       " 'Date',\n",
       " 'Month',\n",
       " 'Day',\n",
       " 'Year',\n",
       " 'Is Holiday',\n",
       " 'Holiday Name',\n",
       " 'Day of Week',\n",
       " 'Hourly Rate',\n",
       " 'Season']"
      ]
     },
     "execution_count": 9,
     "metadata": {},
     "output_type": "execute_result"
    }
   ],
   "source": [
    "batch.columns()"
   ]
  },
  {
   "cell_type": "markdown",
   "metadata": {},
   "source": [
    "## Expectations"
   ]
  },
  {
   "cell_type": "markdown",
   "metadata": {},
   "source": [
    "- Should be 15 columns\n",
    "\n",
    "| Field | Type |Notes |\n",
    "|----------------|--------|--------------------------------|\n",
    "| Job | String | Should only be *Macianos* or *Macianos 2* |\n",
    "| Clocked In   | String |                                  |\n",
    "| Clocked Out | String |                                   |\n",
    "| Duration    | Float  | Should be greater than 0. Not shift. |\n",
    "| Earnings    | Int    | Should be greater than 0 and less than 500 |\n",
    "| Date        | —      |                                            |\n",
    "| Month       | Int    | Should be any number 1–12(inclusive)       |\n",
    "| Day         | Int    | Should be any number 1–31 (inclusive)      |\n",
    "| Year        | Int    | Should be in {2020, 2021, 2022, 2023}      |\n",
    "| Is Holiday  | Bool   | Should be in {True, False}                 |\n",
    "| Holiday Name | String | Should be in list of known holidays (e.g. Christmas Eve, Independence Day, etc.) |\n",
    "| Day of Week    | String | Should be in {Monday, Tuesday, Wednesday, Thursday, ..., Sunday}    |\n",
    "| Hourly Rate    | Float  | Should be greater than 0 and less than 60       |\n",
    "| Season         | String | Should be in {Summer, Spring, Fall, Winter}     |\n"
   ]
  },
  {
   "cell_type": "code",
   "execution_count": 23,
   "metadata": {},
   "outputs": [
    {
     "name": "stderr",
     "output_type": "stream",
     "text": [
      "Calculating Metrics: 100%|██████████| 1/1 [00:00<00:00, 79.36it/s] "
     ]
    },
    {
     "name": "stdout",
     "output_type": "stream",
     "text": [
      "True\n"
     ]
    },
    {
     "name": "stderr",
     "output_type": "stream",
     "text": [
      "\n"
     ]
    }
   ],
   "source": [
    "row_count_between = gx.expectations.ExpectTableRowCountToBeBetween(\n",
    "    min_value=0,\n",
    "    max_value=500\n",
    ")\n",
    "\n",
    "validation_results = batch.validate(\n",
    "    expect=row_count_between\n",
    ")\n",
    "\n",
    "print(validation_results.success)"
   ]
  },
  {
   "cell_type": "code",
   "execution_count": 26,
   "metadata": {},
   "outputs": [
    {
     "name": "stderr",
     "output_type": "stream",
     "text": [
      "Calculating Metrics: 100%|██████████| 3/3 [00:00<00:00, 408.83it/s]\n"
     ]
    },
    {
     "data": {
      "text/plain": [
       "True"
      ]
     },
     "execution_count": 26,
     "metadata": {},
     "output_type": "execute_result"
    }
   ],
   "source": [
    "column_count_between = gx.expectations.ExpectTableColumnCountToBeBetween(\n",
    "    min_value=10,\n",
    "    max_value=20\n",
    ")\n",
    "\n",
    "validation_results = batch.validate(\n",
    "    expect=column_count_between\n",
    ")\n",
    "\n",
    "validation_results.success"
   ]
  }
 ],
 "metadata": {
  "kernelspec": {
   "display_name": "gx",
   "language": "python",
   "name": "python3"
  },
  "language_info": {
   "codemirror_mode": {
    "name": "ipython",
    "version": 3
   },
   "file_extension": ".py",
   "mimetype": "text/x-python",
   "name": "python",
   "nbconvert_exporter": "python",
   "pygments_lexer": "ipython3",
   "version": "3.9.21"
  }
 },
 "nbformat": 4,
 "nbformat_minor": 2
}
