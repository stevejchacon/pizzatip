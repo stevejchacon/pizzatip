{
 "cells": [
  {
   "cell_type": "code",
   "execution_count": 1,
   "metadata": {},
   "outputs": [],
   "source": [
    "import great_expectations as gx\n",
    "import pandas as pd"
   ]
  },
  {
   "cell_type": "code",
   "execution_count": 2,
   "metadata": {},
   "outputs": [],
   "source": [
    "df = pd.read_csv(\"_data/df-clean.csv\")"
   ]
  },
  {
   "cell_type": "markdown",
   "metadata": {},
   "source": [
    "## Create the Data Context"
   ]
  },
  {
   "cell_type": "code",
   "execution_count": 3,
   "metadata": {},
   "outputs": [],
   "source": [
    "context = gx.get_context()"
   ]
  },
  {
   "cell_type": "markdown",
   "metadata": {},
   "source": [
    "## Data Sources & Data Assets"
   ]
  },
  {
   "cell_type": "code",
   "execution_count": 4,
   "metadata": {},
   "outputs": [],
   "source": [
    "# create the data source\n",
    "data_source = context.data_sources.add_pandas(\n",
    "  name=\"pizza_data\"\n",
    ")\n",
    "\n",
    "# create the data asset\n",
    "data_asset = data_source.add_dataframe_asset(\n",
    "  name=\"pizza_asset\"\n",
    ")"
   ]
  },
  {
   "cell_type": "markdown",
   "metadata": {},
   "source": [
    "## Batch Definitions & Batches"
   ]
  },
  {
   "cell_type": "code",
   "execution_count": 5,
   "metadata": {},
   "outputs": [],
   "source": [
    "# create the batch definition\n",
    "batch_definition = data_asset.add_batch_definition_whole_dataframe(\n",
    "  name=\"my_batch_definition\"\n",
    ")\n",
    "\n",
    "# pass your dataframe into a batch. A batch is a group of records that a\n",
    "# validation can be run on \n",
    "batch = batch_definition.get_batch(\n",
    "  batch_parameters={\"dataframe\": df}\n",
    ")"
   ]
  },
  {
   "cell_type": "code",
   "execution_count": 6,
   "metadata": {},
   "outputs": [
    {
     "name": "stderr",
     "output_type": "stream",
     "text": [
      "Calculating Metrics: 100%|██████████| 1/1 [00:00<00:00, 891.08it/s]\n"
     ]
    },
    {
     "data": {
      "text/plain": [
       "   Unnamed: 0       Job Clocked In Clocked Out  Duration  Earnings  \\\n",
       "0           0  Macianos   16:40:00    18:45:00      2.08        59   \n",
       "1           1  Macianos   16:08:00    21:52:00      5.73       108   \n",
       "2           2  Macianos   17:01:00    21:15:00      4.23        81   \n",
       "3           3  Macianos   16:25:00    22:17:00      5.87       124   \n",
       "4           4  Macianos   16:25:00    21:30:00      5.08       122   \n",
       "\n",
       "         Date  Month  Day  Year  Is Holiday Holiday Name Day of Week  \\\n",
       "0  2020-08-03      8    3  2020       False          NaN      Monday   \n",
       "1  2020-08-04      8    4  2020       False          NaN     Tuesday   \n",
       "2  2020-08-05      8    5  2020       False          NaN   Wednesday   \n",
       "3  2020-08-06      8    6  2020       False          NaN    Thursday   \n",
       "4  2020-08-07      8    7  2020       False          NaN      Friday   \n",
       "\n",
       "   Hourly Rate  Season  \n",
       "0        28.37  Summer  \n",
       "1        18.85  Summer  \n",
       "2        19.15  Summer  \n",
       "3        21.12  Summer  \n",
       "4        24.02  Summer  "
      ]
     },
     "execution_count": 6,
     "metadata": {},
     "output_type": "execute_result"
    }
   ],
   "source": [
    "batch.head()"
   ]
  },
  {
   "cell_type": "code",
   "execution_count": 7,
   "metadata": {},
   "outputs": [
    {
     "name": "stderr",
     "output_type": "stream",
     "text": [
      "Calculating Metrics: 100%|██████████| 1/1 [00:00<00:00, 500.75it/s] \n"
     ]
    },
    {
     "data": {
      "text/plain": [
       "     Unnamed: 0        Job Clocked In Clocked Out  Duration  Earnings  \\\n",
       "0             0   Macianos   16:40:00    18:45:00      2.08        59   \n",
       "1             1   Macianos   16:08:00    21:52:00      5.73       108   \n",
       "2             2   Macianos   17:01:00    21:15:00      4.23        81   \n",
       "3             3   Macianos   16:25:00    22:17:00      5.87       124   \n",
       "4             4   Macianos   16:25:00    21:30:00      5.08       122   \n",
       "..          ...        ...        ...         ...       ...       ...   \n",
       "303         303  Maciano 2   16:23:00    21:33:00      5.17       178   \n",
       "304         304  Maciano 2   16:48:00    19:42:00      2.90        63   \n",
       "305         305  Maciano 2   17:10:00    20:30:00      3.33       113   \n",
       "306         306  Maciano 2   15:49:00    19:28:00      3.65        93   \n",
       "307         307  Maciano 2   16:40:00    21:31:00      4.85       224   \n",
       "\n",
       "           Date  Month  Day  Year  Is Holiday Holiday Name Day of Week  \\\n",
       "0    2020-08-03      8    3  2020       False          NaN      Monday   \n",
       "1    2020-08-04      8    4  2020       False          NaN     Tuesday   \n",
       "2    2020-08-05      8    5  2020       False          NaN   Wednesday   \n",
       "3    2020-08-06      8    6  2020       False          NaN    Thursday   \n",
       "4    2020-08-07      8    7  2020       False          NaN      Friday   \n",
       "..          ...    ...  ...   ...         ...          ...         ...   \n",
       "303  2023-05-21      5   21  2023       False          NaN      Sunday   \n",
       "304  2023-05-23      5   23  2023       False          NaN     Tuesday   \n",
       "305  2023-05-26      5   26  2023       False          NaN      Friday   \n",
       "306  2023-06-04      6    4  2023       False          NaN      Sunday   \n",
       "307  2023-06-24      6   24  2023       False          NaN    Saturday   \n",
       "\n",
       "     Hourly Rate  Season  \n",
       "0          28.37  Summer  \n",
       "1          18.85  Summer  \n",
       "2          19.15  Summer  \n",
       "3          21.12  Summer  \n",
       "4          24.02  Summer  \n",
       "..           ...     ...  \n",
       "303        34.43  Spring  \n",
       "304        21.72  Spring  \n",
       "305        33.93  Spring  \n",
       "306        25.48  Summer  \n",
       "307        46.19  Summer  \n",
       "\n",
       "[308 rows x 15 columns]"
      ]
     },
     "execution_count": 7,
     "metadata": {},
     "output_type": "execute_result"
    }
   ],
   "source": [
    "batch.head(fetch_all=True)"
   ]
  },
  {
   "cell_type": "code",
   "execution_count": 8,
   "metadata": {},
   "outputs": [
    {
     "name": "stderr",
     "output_type": "stream",
     "text": [
      "Calculating Metrics: 100%|██████████| 2/2 [00:00<00:00, 275.16it/s]\n"
     ]
    },
    {
     "data": {
      "text/plain": [
       "['Unnamed: 0',\n",
       " 'Job',\n",
       " 'Clocked In',\n",
       " 'Clocked Out',\n",
       " 'Duration',\n",
       " 'Earnings',\n",
       " 'Date',\n",
       " 'Month',\n",
       " 'Day',\n",
       " 'Year',\n",
       " 'Is Holiday',\n",
       " 'Holiday Name',\n",
       " 'Day of Week',\n",
       " 'Hourly Rate',\n",
       " 'Season']"
      ]
     },
     "execution_count": 8,
     "metadata": {},
     "output_type": "execute_result"
    }
   ],
   "source": [
    "batch.columns()"
   ]
  },
  {
   "cell_type": "markdown",
   "metadata": {},
   "source": [
    "## Expectations"
   ]
  },
  {
   "cell_type": "markdown",
   "metadata": {},
   "source": [
    "- Should be 15 columns\n",
    "\n",
    "| Field | Type |Notes |\n",
    "|----------------|--------|--------------------------------|\n",
    "| Job | String | Should only be *Macianos* or *Macianos 2* |\n",
    "| Clocked In   | String |                                  |\n",
    "| Clocked Out | String |                                   |\n",
    "| Duration    | Float  | Should be greater than 0. Not shift. |\n",
    "| Earnings    | Int    | Should be greater than 0 and less than 500 |\n",
    "| Date        | —      |                                            |\n",
    "| Month       | Int    | Should be any number 1–12(inclusive)       |\n",
    "| Day         | Int    | Should be any number 1–31 (inclusive)      |\n",
    "| Year        | Int    | Should be in {2020, 2021, 2022, 2023}      |\n",
    "| Is Holiday  | Bool   | Should be in {True, False}                 |\n",
    "| Holiday Name | String | Should be in list of known holidays (e.g. Christmas Eve, Independence Day, etc.) |\n",
    "| Day of Week    | String | Should be in {Monday, Tuesday, Wednesday, Thursday, ..., Sunday}    |\n",
    "| Hourly Rate    | Float  | Should be greater than 0 and less than 60       |\n",
    "| Season         | String | Should be in {Summer, Spring, Fall, Winter}     |\n"
   ]
  },
  {
   "cell_type": "code",
   "execution_count": 9,
   "metadata": {},
   "outputs": [
    {
     "name": "stderr",
     "output_type": "stream",
     "text": [
      "Calculating Metrics: 100%|██████████| 1/1 [00:00<?, ?it/s]"
     ]
    },
    {
     "name": "stdout",
     "output_type": "stream",
     "text": [
      "True\n"
     ]
    },
    {
     "name": "stderr",
     "output_type": "stream",
     "text": [
      "\n"
     ]
    }
   ],
   "source": [
    "row_count_between = gx.expectations.ExpectTableRowCountToBeBetween(\n",
    "    min_value=0,\n",
    "    max_value=500\n",
    ")\n",
    "\n",
    "validation_results = batch.validate(\n",
    "    expect=row_count_between\n",
    ")\n",
    "\n",
    "print(validation_results.success)"
   ]
  },
  {
   "cell_type": "code",
   "execution_count": 10,
   "metadata": {},
   "outputs": [
    {
     "name": "stderr",
     "output_type": "stream",
     "text": [
      "Calculating Metrics: 100%|██████████| 3/3 [00:00<00:00, 892.28it/s] \n"
     ]
    },
    {
     "data": {
      "text/plain": [
       "True"
      ]
     },
     "execution_count": 10,
     "metadata": {},
     "output_type": "execute_result"
    }
   ],
   "source": [
    "column_count_between = gx.expectations.ExpectTableColumnCountToBeBetween(\n",
    "    min_value=10,\n",
    "    max_value=20\n",
    ")\n",
    "\n",
    "validation_results = batch.validate(\n",
    "    expect=column_count_between\n",
    ")\n",
    "\n",
    "validation_results.success"
   ]
  },
  {
   "cell_type": "code",
   "execution_count": 11,
   "metadata": {},
   "outputs": [
    {
     "name": "stderr",
     "output_type": "stream",
     "text": [
      "Calculating Metrics: 100%|██████████| 4/4 [00:00<00:00, 667.03it/s] \n"
     ]
    },
    {
     "data": {
      "text/plain": [
       "True"
      ]
     },
     "execution_count": 11,
     "metadata": {},
     "output_type": "execute_result"
    }
   ],
   "source": [
    "col_names = {'Black Friday',\n",
    " 'Christmas Eve',\n",
    " \"Father's Day\",\n",
    " 'Halloween',\n",
    " 'Independence Day',\n",
    " 'Juneteenth National Independence Day',\n",
    " 'Juneteenth National Independence Day (Observed)',\n",
    " 'Memorial Day',\n",
    " \"Mother's Day\",\n",
    " \"New Year's Day\",\n",
    " \"New Year's Eve\",\n",
    " \"Valentine's Day\"\n",
    "}\n",
    "\n",
    "column_name_match = gx.expectations.ExpectColumnDistinctValuesToEqualSet(\n",
    "    column=\"Holiday Name\",\n",
    "    value_set=col_names\n",
    ")\n",
    "\n",
    "validation_results = batch.validate(\n",
    "    expect=column_name_match\n",
    ")\n",
    "\n",
    "validation_results.success"
   ]
  },
  {
   "cell_type": "code",
   "execution_count": 12,
   "metadata": {},
   "outputs": [
    {
     "name": "stderr",
     "output_type": "stream",
     "text": [
      "Calculating Metrics: 100%|██████████| 3/3 [00:00<00:00, 488.58it/s] \n"
     ]
    },
    {
     "data": {
      "text/plain": [
       "True"
      ]
     },
     "execution_count": 12,
     "metadata": {},
     "output_type": "execute_result"
    }
   ],
   "source": [
    "column_count = gx.expectations.ExpectTableColumnCountToEqual(\n",
    "    value=15\n",
    ")\n",
    "\n",
    "validation_results = batch.validate(\n",
    "    expect=column_count\n",
    ")\n",
    "\n",
    "validation_results.success"
   ]
  },
  {
   "cell_type": "markdown",
   "metadata": {},
   "source": [
    "## Expectation Suite"
   ]
  },
  {
   "cell_type": "code",
   "execution_count": 13,
   "metadata": {},
   "outputs": [],
   "source": [
    "suite = gx.ExpectationSuite(\n",
    "    name=\"pizza_suite\"\n",
    ")"
   ]
  },
  {
   "cell_type": "code",
   "execution_count": 14,
   "metadata": {},
   "outputs": [
    {
     "data": {
      "text/plain": [
       "ExpectTableRowCountToBeBetween(id=None, meta=None, notes=None, result_format=<ResultFormat.BASIC: 'BASIC'>, description=None, catch_exceptions=False, rendered_content=None, windows=None, batch_id=None, min_value=0, max_value=500, strict_min=False, strict_max=False, row_condition=None, condition_parser=None)"
      ]
     },
     "execution_count": 14,
     "metadata": {},
     "output_type": "execute_result"
    }
   ],
   "source": [
    "expectation = gx.expectations.ExpectTableRowCountToBeBetween(\n",
    "    min_value=0,\n",
    "    max_value=500\n",
    ")\n",
    "\n",
    "suite.add_expectation(\n",
    "    expectation=expectation\n",
    ")"
   ]
  },
  {
   "cell_type": "code",
   "execution_count": 15,
   "metadata": {},
   "outputs": [
    {
     "data": {
      "text/plain": [
       "ExpectTableColumnCountToBeBetween(id=None, meta=None, notes=None, result_format=<ResultFormat.BASIC: 'BASIC'>, description=None, catch_exceptions=False, rendered_content=None, windows=None, batch_id=None, min_value=10.0, max_value=20.0)"
      ]
     },
     "execution_count": 15,
     "metadata": {},
     "output_type": "execute_result"
    }
   ],
   "source": [
    "expectation = gx.expectations.ExpectTableColumnCountToBeBetween(\n",
    "    min_value=10,\n",
    "    max_value=20\n",
    ")\n",
    "\n",
    "suite.add_expectation(\n",
    "    expectation=expectation\n",
    ")"
   ]
  },
  {
   "cell_type": "code",
   "execution_count": 16,
   "metadata": {},
   "outputs": [
    {
     "data": {
      "text/plain": [
       "ExpectColumnDistinctValuesToEqualSet(id=None, meta=None, notes=None, result_format=<ResultFormat.BASIC: 'BASIC'>, description=None, catch_exceptions=False, rendered_content=None, windows=None, batch_id=None, column='Holiday Name', row_condition=None, condition_parser=None, value_set=['Black Friday', 'Christmas Eve', \"Father's Day\", 'Halloween', 'Independence Day', 'Juneteenth National Independence Day', 'Juneteenth National Independence Day (Observed)', 'Memorial Day', \"Mother's Day\", \"New Year's Day\", \"New Year's Eve\", \"Valentine's Day\"])"
      ]
     },
     "execution_count": 16,
     "metadata": {},
     "output_type": "execute_result"
    }
   ],
   "source": [
    "col_names = ['Black Friday',\n",
    " 'Christmas Eve',\n",
    " \"Father's Day\",\n",
    " 'Halloween',\n",
    " 'Independence Day',\n",
    " 'Juneteenth National Independence Day',\n",
    " 'Juneteenth National Independence Day (Observed)',\n",
    " 'Memorial Day',\n",
    " \"Mother's Day\",\n",
    " \"New Year's Day\",\n",
    " \"New Year's Eve\",\n",
    " \"Valentine's Day\"\n",
    "]\n",
    "\n",
    "expectation = gx.expectations.ExpectColumnDistinctValuesToEqualSet(\n",
    "    column=\"Holiday Name\",\n",
    "    value_set=col_names\n",
    ")\n",
    "\n",
    "suite.add_expectation(\n",
    "    expectation=expectation\n",
    ")"
   ]
  },
  {
   "cell_type": "code",
   "execution_count": 17,
   "metadata": {},
   "outputs": [
    {
     "data": {
      "text/plain": [
       "[ExpectTableRowCountToBeBetween(id=None, meta=None, notes=None, result_format=<ResultFormat.BASIC: 'BASIC'>, description=None, catch_exceptions=False, rendered_content=None, windows=None, batch_id=None, min_value=0, max_value=500, strict_min=False, strict_max=False, row_condition=None, condition_parser=None),\n",
       " ExpectTableColumnCountToBeBetween(id=None, meta=None, notes=None, result_format=<ResultFormat.BASIC: 'BASIC'>, description=None, catch_exceptions=False, rendered_content=None, windows=None, batch_id=None, min_value=10.0, max_value=20.0),\n",
       " ExpectColumnDistinctValuesToEqualSet(id=None, meta=None, notes=None, result_format=<ResultFormat.BASIC: 'BASIC'>, description=None, catch_exceptions=False, rendered_content=None, windows=None, batch_id=None, column='Holiday Name', row_condition=None, condition_parser=None, value_set=['Black Friday', 'Christmas Eve', \"Father's Day\", 'Halloween', 'Independence Day', 'Juneteenth National Independence Day', 'Juneteenth National Independence Day (Observed)', 'Memorial Day', \"Mother's Day\", \"New Year's Day\", \"New Year's Eve\", \"Valentine's Day\"])]"
      ]
     },
     "execution_count": 17,
     "metadata": {},
     "output_type": "execute_result"
    }
   ],
   "source": [
    "# Check the Expectations that are in the current Suite\n",
    "\n",
    "# suite.expectations     -- will produce same reult as --\n",
    "suite[\"expectations\"]"
   ]
  },
  {
   "cell_type": "code",
   "execution_count": 18,
   "metadata": {},
   "outputs": [],
   "source": [
    "suite[\"notes\"] = \"This suite contains just a few expectations as a testing ground for learning\""
   ]
  },
  {
   "cell_type": "code",
   "execution_count": 19,
   "metadata": {},
   "outputs": [
    {
     "name": "stderr",
     "output_type": "stream",
     "text": [
      "Calculating Metrics: 100%|██████████| 6/6 [00:00<00:00, 779.13it/s] "
     ]
    },
    {
     "name": "stdout",
     "output_type": "stream",
     "text": [
      "True\n"
     ]
    },
    {
     "name": "stderr",
     "output_type": "stream",
     "text": [
      "\n"
     ]
    }
   ],
   "source": [
    "validation_results = batch.validate(\n",
    "    expect=suite\n",
    ")\n",
    "\n",
    "print(validation_results.success)"
   ]
  },
  {
   "cell_type": "markdown",
   "metadata": {},
   "source": [
    "## Validation Definition"
   ]
  },
  {
   "cell_type": "code",
   "execution_count": 21,
   "metadata": {},
   "outputs": [
    {
     "name": "stderr",
     "output_type": "stream",
     "text": [
      "Calculating Metrics: 100%|██████████| 6/6 [00:00<00:00, 1199.92it/s]"
     ]
    },
    {
     "name": "stdout",
     "output_type": "stream",
     "text": [
      "{\n",
      "    \"success\": true,\n",
      "    \"statistics\": {\n",
      "        \"evaluated_expectations\": 3,\n",
      "        \"successful_expectations\": 3,\n",
      "        \"unsuccessful_expectations\": 0,\n",
      "        \"success_percent\": 100.0\n",
      "    },\n",
      "    \"expectations\": [\n",
      "        {\n",
      "            \"expectation_type\": \"expect_table_row_count_to_be_between\",\n",
      "            \"success\": true,\n",
      "            \"kwargs\": {\n",
      "                \"batch_id\": \"pizza_data-pizza_asset\",\n",
      "                \"min_value\": 0,\n",
      "                \"max_value\": 500\n",
      "            },\n",
      "            \"result\": {\n",
      "                \"observed_value\": 308\n",
      "            }\n",
      "        },\n",
      "        {\n",
      "            \"expectation_type\": \"expect_table_column_count_to_be_between\",\n",
      "            \"success\": true,\n",
      "            \"kwargs\": {\n",
      "                \"batch_id\": \"pizza_data-pizza_asset\",\n",
      "                \"min_value\": 10.0,\n",
      "                \"max_value\": 20.0\n",
      "            },\n",
      "            \"result\": {\n",
      "                \"observed_value\": 15\n",
      "            }\n",
      "        },\n",
      "        {\n",
      "            \"expectation_type\": \"expect_column_distinct_values_to_equal_set\",\n",
      "            \"success\": true,\n",
      "            \"kwargs\": {\n",
      "                \"batch_id\": \"pizza_data-pizza_asset\",\n",
      "                \"column\": \"Holiday Name\",\n",
      "                \"value_set\": [\n",
      "                    \"Black Friday\",\n",
      "                    \"Christmas Eve\",\n",
      "                    \"Father's Day\",\n",
      "                    \"Halloween\",\n",
      "                    \"Independence Day\",\n",
      "                    \"Juneteenth National Independence Day\",\n",
      "                    \"Juneteenth National Independence Day (Observed)\",\n",
      "                    \"Memorial Day\",\n",
      "                    \"Mother's Day\",\n",
      "                    \"New Year's Day\",\n",
      "                    \"New Year's Eve\",\n",
      "                    \"Valentine's Day\"\n",
      "                ]\n",
      "            },\n",
      "            \"result\": {\n",
      "                \"observed_value\": [\n",
      "                    \"Black Friday\",\n",
      "                    \"Christmas Eve\",\n",
      "                    \"Father's Day\",\n",
      "                    \"Halloween\",\n",
      "                    \"Independence Day\",\n",
      "                    \"Juneteenth National Independence Day\",\n",
      "                    \"Juneteenth National Independence Day (Observed)\",\n",
      "                    \"Memorial Day\",\n",
      "                    \"Mother's Day\",\n",
      "                    \"New Year's Day\",\n",
      "                    \"New Year's Eve\",\n",
      "                    \"Valentine's Day\"\n",
      "                ],\n",
      "                \"details\": {\n",
      "                    \"value_counts\": [\n",
      "                        {\n",
      "                            \"value\": \"Black Friday\",\n",
      "                            \"count\": 1\n",
      "                        },\n",
      "                        {\n",
      "                            \"value\": \"Christmas Eve\",\n",
      "                            \"count\": 2\n",
      "                        },\n",
      "                        {\n",
      "                            \"value\": \"Father's Day\",\n",
      "                            \"count\": 1\n",
      "                        },\n",
      "                        {\n",
      "                            \"value\": \"Halloween\",\n",
      "                            \"count\": 2\n",
      "                        },\n",
      "                        {\n",
      "                            \"value\": \"Independence Day\",\n",
      "                            \"count\": 1\n",
      "                        },\n",
      "                        {\n",
      "                            \"value\": \"Juneteenth National Independence Day\",\n",
      "                            \"count\": 1\n",
      "                        },\n",
      "                        {\n",
      "                            \"value\": \"Juneteenth National Independence Day (Observed)\",\n",
      "                            \"count\": 1\n",
      "                        },\n",
      "                        {\n",
      "                            \"value\": \"Memorial Day\",\n",
      "                            \"count\": 1\n",
      "                        },\n",
      "                        {\n",
      "                            \"value\": \"Mother's Day\",\n",
      "                            \"count\": 2\n",
      "                        },\n",
      "                        {\n",
      "                            \"value\": \"New Year's Day\",\n",
      "                            \"count\": 2\n",
      "                        },\n",
      "                        {\n",
      "                            \"value\": \"New Year's Eve\",\n",
      "                            \"count\": 3\n",
      "                        },\n",
      "                        {\n",
      "                            \"value\": \"Valentine's Day\",\n",
      "                            \"count\": 1\n",
      "                        }\n",
      "                    ]\n",
      "                }\n",
      "            }\n",
      "        }\n",
      "    ],\n",
      "    \"result_url\": null\n",
      "}\n"
     ]
    },
    {
     "name": "stderr",
     "output_type": "stream",
     "text": [
      "\n"
     ]
    }
   ],
   "source": [
    "# Now use ValidationDefinition with the updated suite\n",
    "validation_definition = gx.ValidationDefinition(\n",
    "    data=batch_definition,\n",
    "    suite=suite,\n",
    "    name=\"validate_customer_data\"\n",
    ")\n",
    "\n",
    "# Add Expectation Suite to Data Context\n",
    "suite = context.suites.add(suite=suite)\n",
    "\n",
    "# Run validation\n",
    "validation_results = validation_definition.run(\n",
    "    batch_parameters={\"dataframe\": df}\n",
    ")\n",
    "print(validation_results.describe())\n"
   ]
  },
  {
   "cell_type": "code",
   "execution_count": 24,
   "metadata": {},
   "outputs": [],
   "source": [
    "df2 = pd.read_csv(\"_data/df-clean.csv\")"
   ]
  },
  {
   "cell_type": "code",
   "execution_count": 25,
   "metadata": {},
   "outputs": [
    {
     "name": "stderr",
     "output_type": "stream",
     "text": [
      "Calculating Metrics: 100%|██████████| 6/6 [00:00<00:00, 1172.90it/s]"
     ]
    },
    {
     "name": "stdout",
     "output_type": "stream",
     "text": [
      "{\n",
      "    \"success\": true,\n",
      "    \"statistics\": {\n",
      "        \"evaluated_expectations\": 3,\n",
      "        \"successful_expectations\": 3,\n",
      "        \"unsuccessful_expectations\": 0,\n",
      "        \"success_percent\": 100.0\n",
      "    },\n",
      "    \"expectations\": [\n",
      "        {\n",
      "            \"expectation_type\": \"expect_table_row_count_to_be_between\",\n",
      "            \"success\": true,\n",
      "            \"kwargs\": {\n",
      "                \"batch_id\": \"pizza_data-pizza_asset\",\n",
      "                \"min_value\": 0,\n",
      "                \"max_value\": 500\n",
      "            },\n",
      "            \"result\": {\n",
      "                \"observed_value\": 308\n",
      "            }\n",
      "        },\n",
      "        {\n",
      "            \"expectation_type\": \"expect_table_column_count_to_be_between\",\n",
      "            \"success\": true,\n",
      "            \"kwargs\": {\n",
      "                \"batch_id\": \"pizza_data-pizza_asset\",\n",
      "                \"min_value\": 10.0,\n",
      "                \"max_value\": 20.0\n",
      "            },\n",
      "            \"result\": {\n",
      "                \"observed_value\": 15\n",
      "            }\n",
      "        },\n",
      "        {\n",
      "            \"expectation_type\": \"expect_column_distinct_values_to_equal_set\",\n",
      "            \"success\": true,\n",
      "            \"kwargs\": {\n",
      "                \"batch_id\": \"pizza_data-pizza_asset\",\n",
      "                \"column\": \"Holiday Name\",\n",
      "                \"value_set\": [\n",
      "                    \"Black Friday\",\n",
      "                    \"Christmas Eve\",\n",
      "                    \"Father's Day\",\n",
      "                    \"Halloween\",\n",
      "                    \"Independence Day\",\n",
      "                    \"Juneteenth National Independence Day\",\n",
      "                    \"Juneteenth National Independence Day (Observed)\",\n",
      "                    \"Memorial Day\",\n",
      "                    \"Mother's Day\",\n",
      "                    \"New Year's Day\",\n",
      "                    \"New Year's Eve\",\n",
      "                    \"Valentine's Day\"\n",
      "                ]\n",
      "            },\n",
      "            \"result\": {\n",
      "                \"observed_value\": [\n",
      "                    \"Black Friday\",\n",
      "                    \"Christmas Eve\",\n",
      "                    \"Father's Day\",\n",
      "                    \"Halloween\",\n",
      "                    \"Independence Day\",\n",
      "                    \"Juneteenth National Independence Day\",\n",
      "                    \"Juneteenth National Independence Day (Observed)\",\n",
      "                    \"Memorial Day\",\n",
      "                    \"Mother's Day\",\n",
      "                    \"New Year's Day\",\n",
      "                    \"New Year's Eve\",\n",
      "                    \"Valentine's Day\"\n",
      "                ],\n",
      "                \"details\": {\n",
      "                    \"value_counts\": [\n",
      "                        {\n",
      "                            \"value\": \"Black Friday\",\n",
      "                            \"count\": 1\n",
      "                        },\n",
      "                        {\n",
      "                            \"value\": \"Christmas Eve\",\n",
      "                            \"count\": 2\n",
      "                        },\n",
      "                        {\n",
      "                            \"value\": \"Father's Day\",\n",
      "                            \"count\": 1\n",
      "                        },\n",
      "                        {\n",
      "                            \"value\": \"Halloween\",\n",
      "                            \"count\": 2\n",
      "                        },\n",
      "                        {\n",
      "                            \"value\": \"Independence Day\",\n",
      "                            \"count\": 1\n",
      "                        },\n",
      "                        {\n",
      "                            \"value\": \"Juneteenth National Independence Day\",\n",
      "                            \"count\": 1\n",
      "                        },\n",
      "                        {\n",
      "                            \"value\": \"Juneteenth National Independence Day (Observed)\",\n",
      "                            \"count\": 1\n",
      "                        },\n",
      "                        {\n",
      "                            \"value\": \"Memorial Day\",\n",
      "                            \"count\": 1\n",
      "                        },\n",
      "                        {\n",
      "                            \"value\": \"Mother's Day\",\n",
      "                            \"count\": 2\n",
      "                        },\n",
      "                        {\n",
      "                            \"value\": \"New Year's Day\",\n",
      "                            \"count\": 2\n",
      "                        },\n",
      "                        {\n",
      "                            \"value\": \"New Year's Eve\",\n",
      "                            \"count\": 3\n",
      "                        },\n",
      "                        {\n",
      "                            \"value\": \"Valentine's Day\",\n",
      "                            \"count\": 1\n",
      "                        }\n",
      "                    ]\n",
      "                }\n",
      "            }\n",
      "        }\n",
      "    ],\n",
      "    \"result_url\": null\n",
      "}\n"
     ]
    },
    {
     "name": "stderr",
     "output_type": "stream",
     "text": [
      "\n"
     ]
    }
   ],
   "source": [
    "# run it again with a different data file\n",
    "# Run validation\n",
    "validation_results = validation_definition.run(\n",
    "    batch_parameters={\"dataframe\": df2}\n",
    ")\n",
    "print(validation_results.describe())\n"
   ]
  }
 ],
 "metadata": {
  "kernelspec": {
   "display_name": "gx",
   "language": "python",
   "name": "python3"
  },
  "language_info": {
   "codemirror_mode": {
    "name": "ipython",
    "version": 3
   },
   "file_extension": ".py",
   "mimetype": "text/x-python",
   "name": "python",
   "nbconvert_exporter": "python",
   "pygments_lexer": "ipython3",
   "version": "3.9.21"
  }
 },
 "nbformat": 4,
 "nbformat_minor": 2
}
